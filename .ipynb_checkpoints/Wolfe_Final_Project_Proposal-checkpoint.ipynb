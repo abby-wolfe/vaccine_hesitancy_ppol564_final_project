{
 "cells": [
  {
   "cell_type": "markdown",
   "id": "f4878910",
   "metadata": {},
   "source": [
    "# Final Project Proposal"
   ]
  },
  {
   "cell_type": "markdown",
   "id": "3b954434",
   "metadata": {},
   "source": [
    "### Problem Statement"
   ]
  },
  {
   "cell_type": "markdown",
   "id": "65c9798d",
   "metadata": {},
   "source": [
    "I am interested in learning about why hesitancy around the COVID-19 vaccine has persisted in the United States. Upon my initial research, I found survey data from the United States Census Bureau which asks respondents if they have received a COVID-19 vaccine and if not, why they are hesitant to do so. In the survey, I noticed that social factors were not included in the given reasons for vaccine hesitancy. While many of their statements could possibly be related to social influence, none of the reasons given in the survey specifically point to social influences. While it’s impossible to know what specific social influences are present in the lives of the survey respondents due to the survey’s anonymity, it’s reasonable to suspect that their geographic location has an influence on them. So, for my final project, I will analyze the relationship that exists between the respondents’ vaccination status and the number of vaccinations per 100,000 residents in their state."
   ]
  },
  {
   "cell_type": "markdown",
   "id": "182f680a",
   "metadata": {},
   "source": [
    "### Data"
   ]
  },
  {
   "cell_type": "markdown",
   "id": "46865575",
   "metadata": {},
   "source": [
    "For my vaccination rate data, I’m going to use the COVID-19 Vaccinations in the United States by jurisdiction dataset from the Centers for Disease Control exported as a csv file. This dataset includes the numbers of distributed and administered COVID-19 vaccines by state, day, and brand of vaccine from December 23rd, 2020, until November 2nd, 2021. \n",
    "\n",
    "For my data on vaccine hesitancy, I’m going to use the Phase 3.2 of the Household Pulse Survey from the United States Census Bureau exported as a csv file. This dataset includes survey responses sent to over 50,000 participants from across the country and inquires about how the COVID-19 pandemic has impacted their everyday lives. For this phase, the data was recorded between July 21st and October 2021. \n"
   ]
  },
  {
   "cell_type": "markdown",
   "id": "3a60dc6e",
   "metadata": {},
   "source": [
    "### Methods"
   ]
  },
  {
   "cell_type": "markdown",
   "id": "12c3ed20",
   "metadata": {},
   "source": [
    "For my data wrangling, I intend to join the datasets, using a left merge on the Census Bureau dataset according to state. Given that the CDC dataset is a time series, I would only merge the observations for each state on July 21st, 2021, the day that the Census Bureau started collecting their data for Phase 3.2 of the Household Pulse Survey.\n",
    "\n",
    "For the statistical component of the project, I intend to produce a bivariate OLS model with vaccination status as the dependent variable and vaccination rate per 100,000 in the respondent’s state as the independent variable. I also want to produce other bivariate OLS models with vaccination rate as the independent variable and reasons for not being fully vaccinated as the dependent variable. I also intend on producing visualizations of the data in terms of traditional scatter graphs and potentially map representations.\n"
   ]
  },
  {
   "cell_type": "markdown",
   "id": "d9ad9726",
   "metadata": {},
   "source": [
    "### Definition of Success"
   ]
  },
  {
   "cell_type": "markdown",
   "id": "6ae42c95",
   "metadata": {},
   "source": [
    "My definition of success for this project is to successfully perform the data manipulations required for the project and create publishable quality graphics. For the statistical modeling aspect of the project, I think that I need to be more realistic because I think I will struggle a lot with the specification and inference of my models. I think that a reasonable expectation is that my inference should make sense for the specifications of my models even if there was a better way that the models could have been constructed."
   ]
  },
  {
   "cell_type": "markdown",
   "id": "8d372c18",
   "metadata": {},
   "source": [
    "### Data Sources"
   ]
  },
  {
   "cell_type": "markdown",
   "id": "77913e65",
   "metadata": {},
   "source": [
    "[CDC COVID-19 Vaccination Data](https://data.cdc.gov/Vaccinations/COVID-19-Vaccinations-in-the-United-States-Jurisdi/unsk-b7fc)\n",
    "\n",
    "[Census Bureau Household Pulse Survey Data (Phase 3.2)](https://www.census.gov/programs-surveys/household-pulse-survey/datasets.html)"
   ]
  }
 ],
 "metadata": {
  "kernelspec": {
   "display_name": "Python 3",
   "language": "python",
   "name": "python3"
  },
  "language_info": {
   "codemirror_mode": {
    "name": "ipython",
    "version": 3
   },
   "file_extension": ".py",
   "mimetype": "text/x-python",
   "name": "python",
   "nbconvert_exporter": "python",
   "pygments_lexer": "ipython3",
   "version": "3.8.8"
  }
 },
 "nbformat": 4,
 "nbformat_minor": 5
}
